{
 "cells": [
  {
   "cell_type": "code",
   "execution_count": 1,
   "metadata": {
    "collapsed": true
   },
   "outputs": [],
   "source": [
    "import pandas as pd\n",
    "import numpy as np"
   ]
  },
  {
   "cell_type": "code",
   "execution_count": 2,
   "metadata": {
    "collapsed": true
   },
   "outputs": [],
   "source": [
    "from sklearn.preprocessing import OneHotEncoder, LabelEncoder\n",
    "from sklearn.ensemble import ExtraTreesClassifier\n",
    "from sklearn.cross_validation import StratifiedShuffleSplit, StratifiedKFold, cross_val_score\n",
    "from sklearn.grid_search import RandomizedSearchCV, GridSearchCV\n",
    "from sklearn.metrics import log_loss"
   ]
  },
  {
   "cell_type": "code",
   "execution_count": 3,
   "metadata": {
    "collapsed": true
   },
   "outputs": [],
   "source": [
    "data = pd.read_csv('train.csv')"
   ]
  },
  {
   "cell_type": "code",
   "execution_count": 4,
   "metadata": {
    "collapsed": true
   },
   "outputs": [],
   "source": [
    "v22_filled = data['v22'].fillna('*')\n",
    "target = data['target']\n",
    "\n",
    "le = LabelEncoder()\n",
    "v22_filled_num = le.fit_transform(v22_filled)\n",
    "\n",
    "ohe = OneHotEncoder()\n",
    "ohe.fit(v22_filled_num.reshape(-1, 1))\n",
    "sparse = ohe.transform(v22_filled_num.reshape(-1, 1))"
   ]
  },
  {
   "cell_type": "code",
   "execution_count": 5,
   "metadata": {
    "collapsed": false
   },
   "outputs": [
    {
     "name": "stdout",
     "output_type": "stream",
     "text": [
      "-0.549221628324\n",
      "{'max_leaf_nodes': 70, 'bootstrap': False, 'min_samples_leaf': 1, 'n_estimators': 50, 'max_features': 50, 'criterion': 'gini', 'min_samples_split': 5}\n"
     ]
    }
   ],
   "source": [
    "# cvs = StratifiedKFold(target.as_matrix().astype(int), n_folds=5, shuffle=True, random_state=42)\n",
    "cvs = StratifiedShuffleSplit(target.as_matrix().astype(int), n_iter=1, test_size=0.4, random_state=42)\n",
    "\n",
    "estimator = ExtraTreesClassifier()\n",
    "\n",
    "param_dist = {'max_features': ['sqrt', 'log2', 3, 5, 10, 50, 300],\n",
    "              'n_estimators': [10, 20, 50, 100],\n",
    "              'max_leaf_nodes': [2, 5, 10, 30, 50, 70],\n",
    "              'min_samples_split': [2, 5, 7, 10, 15],\n",
    "              'min_samples_leaf': [1, 2, 3, 5, 7],\n",
    "              'bootstrap': [True, False],\n",
    "              'criterion': ['gini', 'entropy']\n",
    "             }\n",
    "\n",
    "rs = RandomizedSearchCV(estimator, param_distributions=param_dist, n_iter=1024, scoring='log_loss', cv=cvs, n_jobs=-1,\n",
    "                        random_state=9128374, refit=False)\n",
    "rs.fit(sparse, target.as_matrix().astype(int))\n",
    "\n",
    "print rs.best_score_\n",
    "print rs.best_params_"
   ]
  },
  {
   "cell_type": "code",
   "execution_count": null,
   "metadata": {
    "collapsed": true
   },
   "outputs": [],
   "source": []
  }
 ],
 "metadata": {
  "kernelspec": {
   "display_name": "Python 2",
   "language": "python",
   "name": "python2"
  },
  "language_info": {
   "codemirror_mode": {
    "name": "ipython",
    "version": 2
   },
   "file_extension": ".py",
   "mimetype": "text/x-python",
   "name": "python",
   "nbconvert_exporter": "python",
   "pygments_lexer": "ipython2",
   "version": "2.7.11"
  }
 },
 "nbformat": 4,
 "nbformat_minor": 0
}
